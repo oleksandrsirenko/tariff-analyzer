{
 "cells": [
  {
   "cell_type": "markdown",
   "metadata": {},
   "source": [
    "# Tariff Analyzer Demonstration\n",
    "\n",
    "This notebook demonstrates the key features of the Tariff Analyzer system."
   ]
  },
  {
   "cell_type": "code",
   "execution_count": null,
   "metadata": {},
   "source": [
    "import os\n",
    "import json\n",
    "import sys\n",
    "from pathlib import Path\n",
    "import pandas as pd\n",
    "import matplotlib.pyplot as plt\n",
    "from IPython.display import HTML, display\n",
    "\n",
    "# Add parent directory to path to make imports work in notebook\n",
    "sys.path.append('..')"
   ]
  },
  {
   "cell_type": "markdown",
   "metadata": {},
   "source": [
    "## Import Components\n",
    "\n",
    "First, let's import the main components of the system:"
   ]
  },
  {
   "cell_type": "code",
   "execution_count": null,
   "metadata": {},
   "source": [
    "from src.preprocessing.processor import TariffProcessor\n",
    "from src.analysis.statistics import TariffStatistics\n",
    "from src.analysis.time_series import TariffTimeSeriesAnalyzer\n",
    "from src.analysis.network import TariffNetworkAnalyzer\n",
    "from src.analysis.impact import TariffImpactAnalyzer\n",
    "from src.visualization.dashboard import TariffDashboard\n",
    "from src.visualization.geo_viz import GeoVisualizer\n",
    "from src.visualization.network_viz import NetworkVisualizer\n",
    "from src.visualization.time_viz import TimeVisualizer"
   ]
  },
  {
   "cell_type": "markdown",
   "metadata": {},
   "source": [
    "## Load and Preprocess Data\n",
    "\n",
    "Now, let's load the sample data and process it:"
   ]
  },
  {
   "cell_type": "code",
   "execution_count": null,
   "metadata": {},
   "source": [
    "# Set up paths\n",
    "sample_data_path = \"../data/reference/event_api_response_example.json\"\n",
    "country_codes_path = \"../data/reference/country_codes_iso_3166_1_alpha_2_code.csv\"\n",
    "\n",
    "# Load sample data\n",
    "with open(sample_data_path, 'r') as f:\n",
    "    data = json.load(f)\n",
    "\n",
    "# Initialize processor\n",
    "processor = TariffProcessor(country_codes_path)\n",
    "\n",
    "# Process the data\n",
    "processed_data = processor.process(data)\n",
    "\n",
    "print(f\"Processed {len(processed_data['events'])} events\")\n",
    "print(f\"Metadata: {processed_data['metadata']}\")"
   ]
  },
  {
   "cell_type": "markdown",
   "metadata": {},
   "source": [
    "## Statistical Analysis\n",
    "\n",
    "Let's analyze the processed data:"
   ]
  },
  {
   "cell_type": "code",
   "execution_count": null,
   "metadata": {},
   "source": [
    "# Statistical analysis\n",
    "stats = TariffStatistics(processed_data)\n",
    "summary = stats.get_summary_statistics()\n",
    "\n",
    "# Display key statistics\n",
    "print(f\"Total events: {summary['total_events']}\")\n",
    "print(f\"Rate statistics: {summary.get('rate_statistics', {})}\")\n",
    "print(\"\\nTop imposing countries:\")\n",
    "for country in summary.get('top_imposing_countries', []):\n",
    "    print(f\"- {country['name']}: {country['count']} events\")"
   ]
  },
  {
   "cell_type": "markdown",
   "metadata": {},
   "source": [
    "## Rate Distribution\n",
    "\n",
    "Let's look at the distribution of tariff rates:"
   ]
  },
  {
   "cell_type": "code",
   "execution_count": null,
   "metadata": {},
   "source": [
    "# Get rate distribution\n",
    "rate_distribution = stats.get_rate_distribution()\n",
    "\n",
    "# Plot distribution\n",
    "plt.figure(figsize=(10, 6))\n",
    "plt.bar(rate_distribution[\"bins\"], rate_distribution[\"counts\"])\n",
    "plt.xlabel(\"Tariff Rate Range (%)\")\n",
    "plt.ylabel(\"Number of Events\")\n",
    "plt.title(\"Distribution of Tariff Rates\")\n",
    "plt.xticks(rotation=45)\n",
    "plt.tight_layout()\n",
    "plt.show()"
   ]
  },
  {
   "cell_type": "markdown",
   "metadata": {},
   "source": [
    "## Impact Analysis\n",
    "\n",
    "Now, let's analyze the economic impact:"
   ]
  },
  {
   "cell_type": "code",
   "execution_count": null,
   "metadata": {},
   "source": [
    "# Impact analysis\n",
    "impact = TariffImpactAnalyzer(processed_data)\n",
    "\n",
    "# Get industry impact\n",
    "industry_impact = impact.get_industry_impact_assessment()\n",
    "\n",
    "if \"error\" not in industry_impact:\n",
    "    # Convert to DataFrame for easier viewing\n",
    "    industry_df = pd.DataFrame(industry_impact[\"industries\"])\n",
    "    \n",
    "    # Sort by vulnerability\n",
    "    industry_df = industry_df.sort_values(\"vulnerability\", ascending=False)\n",
    "    \n",
    "    # Display as table\n",
    "    display(industry_df[['industry', 'event_count', 'avg_rate', 'vulnerability']])\n",
    "    \n",
    "    # Bar chart of industry vulnerability\n",
    "    plt.figure(figsize=(10, 6))\n",
    "    plt.barh(industry_df['industry'], industry_df['vulnerability'])\n",
    "    plt.xlabel('Vulnerability Score')\n",
    "    plt.title('Industry Vulnerability to Tariffs')\n",
    "    plt.tight_layout()\n",
    "    plt.show()\n",
    "else:\n",
    "    print(f\"Could not analyze industry impact: {industry_impact['error']}\")"
   ]
  },
  {
   "cell_type": "markdown",
   "metadata": {},
   "source": [
    "## Country Impact Analysis"
   ]
  },
  {
   "cell_type": "code",
   "execution_count": null,
   "metadata": {},
   "source": [
    "# Get country impact\n",
    "country_impact = impact.get_country_impact_assessment()\n",
    "\n",
    "if \"error\" not in country_impact:\n",
    "    # Convert to DataFrame for easier viewing\n",
    "    country_df = pd.DataFrame(country_impact[\"countries\"])\n",
    "    \n",
    "    # Sort by targeted count\n",
    "    country_df = country_df.sort_values(\"targeted_count\", ascending=False).head(10)\n",
    "    \n",
    "    # Display as table\n",
    "    display(country_df[['country', 'targeted_count', 'imposing_count', 'net_position']])\n",
    "else:\n",
    "    print(f\"Could not analyze country impact: {country_impact['error']}\")"
   ]
  },
  {
   "cell_type": "markdown",
   "metadata": {},
   "source": [
    "## Time Series Analysis\n",
    "\n",
    "Let's look at the temporal patterns in the data:"
   ]
  },
  {
   "cell_type": "code",
   "execution_count": null,
   "metadata": {},
   "source": [
    "# Time series analysis\n",
    "time_analyzer = TariffTimeSeriesAnalyzer(processed_data)\n",
    "\n",
    "# Get monthly event counts\n",
    "monthly_counts = time_analyzer.get_monthly_event_counts()\n",
    "\n",
    "if \"error\" not in monthly_counts:\n",
    "    # Plot monthly counts\n",
    "    plt.figure(figsize=(12, 6))\n",
    "    plt.plot(monthly_counts[\"dates\"], monthly_counts[\"counts\"], marker='o')\n",
    "    plt.xlabel(\"Month\")\n",
    "    plt.ylabel(\"Number of Events\")\n",
    "    plt.title(\"Monthly Tariff Events\")\n",
    "    plt.xticks(rotation=45)\n",
    "    plt.tight_layout()\n",
    "    plt.show()\n",
    "else:\n",
    "    print(f\"Could not analyze monthly counts: {monthly_counts['error']}\")"
   ]
  },
  {
   "cell_type": "markdown",
   "metadata": {},
   "source": [
    "## Network Analysis\n",
    "\n",
    "Now, let's analyze the trade relationships as a network:"
   ]
  },
  {
   "cell_type": "code",
   "execution_count": null,
   "metadata": {},
   "source": [
    "# Network analysis\n",
    "network_analyzer = TariffNetworkAnalyzer(processed_data)\n",
    "\n",
    "# Get network summary\n",
    "network_summary = network_analyzer.get_network_summary()\n",
    "\n",
    "if \"error\" not in network_summary:\n",
    "    print(f\"Network summary:\")\n",
    "    print(f\"- Nodes: {network_summary['nodes']}\")\n",
    "    print(f\"- Edges: {network_summary['edges']}\")\n",
    "    print(f\"- Density: {network_summary['density']:.4f}\")\n",
    "    \n",
    "    if \"centrality\" in network_summary:\n",
    "        print(\"\\nTop countries by centrality:\")\n",
    "        for country in network_summary[\"centrality\"][\"top_imposing\"]:\n",
    "            print(f\"- {country['country']}: {country['score']:.3f}\")\n",
    "else:\n",
    "    print(f\"Could not analyze network: {network_summary['error']}\")"
   ]
  },
  {
   "cell_type": "markdown",
   "metadata": {},
   "source": [
    "## Visualizations\n",
    "\n",
    "Let's create and display some visualizations:"
   ]
  },
  {
   "cell_type": "code",
   "execution_count": null,
   "metadata": {},
   "source": [
    "# Initialize visualizers\n",
    "time_viz = TimeVisualizer(processed_data)\n",
    "geo_viz = GeoVisualizer(processed_data, country_codes_path)\n",
    "network_viz = NetworkVisualizer(processed_data)\n",
    "\n",
    "# Create visualizations\n",
    "monthly_trend = time_viz.plot_monthly_trend()\n",
    "seasonal_pattern = time_viz.plot_seasonal_pattern()\n",
    "world_map = geo_viz.plot_tariff_world_map()\n",
    "network_graph = network_viz.plot_tariff_network()"
   ]
  },
  {
   "cell_type": "markdown",
   "metadata": {},
   "source": [
    "### Monthly Trend Visualization"
   ]
  },
  {
   "cell_type": "code",
   "execution_count": null,
   "metadata": {},
   "source": [
    "if monthly_trend:\n",
    "    display(HTML(f'<img src=\"data:image/png;base64,{monthly_trend}\" width=\"800\">'))  \n",
    "else:\n",
    "    print(\"No monthly trend visualization available\")"
   ]
  },
  {
   "cell_type": "markdown",
   "metadata": {},
   "source": [
    "### Seasonal Pattern Visualization"
   ]
  },
  {
   "cell_type": "code",
   "execution_count": null,
   "metadata": {},
   "source": [
    "if seasonal_pattern:\n",
    "    display(HTML(f'<img src=\"data:image/png;base64,{seasonal_pattern}\" width=\"800\">'))  \n",
    "else:\n",
    "    print(\"No seasonal pattern visualization available\")"
   ]
  },
  {
   "cell_type": "markdown",
   "metadata": {},
   "source": [
    "### World Map Visualization"
   ]
  },
  {
   "cell_type": "code",
   "execution_count": null,
   "metadata": {},
   "source": [
    "if world_map:\n",
    "    display(HTML(f'<img src=\"data:image/png;base64,{world_map}\" width=\"800\">'))  \n",
    "else:\n",
    "    print(\"No world map visualization available\")"
   ]
  },
  {
   "cell_type": "markdown",
   "metadata": {},
   "source": [
    "### Network Graph Visualization"
   ]
  },
  {
   "cell_type": "code",
   "execution_count": null,
   "metadata": {},
   "source": [
    "if network_graph:\n",
    "    display(HTML(f'<img src=\"data:image/png;base64,{network_graph}\" width=\"800\">'))  \n",
    "else:\n",
    "    print(\"No network graph visualization available\")"
   ]
  },
  {
   "cell_type": "markdown",
   "metadata": {},
   "source": [
    "## Generate Dashboard\n",
    "\n",
    "Finally, let's generate a comprehensive dashboard:"
   ]
  },
  {
   "cell_type": "code",
   "execution_count": null,
   "metadata": {},
   "source": [
    "# Create dashboard\n",
    "dashboard = TariffDashboard(processed_data)\n",
    "\n",
    "# Generate HTML\n",
    "html_path = \"../output/notebook_dashboard.html\"\n",
    "dashboard.generate_dashboard_html(html_path)\n",
    "\n",
    "print(f\"Dashboard generated at: {html_path}\")\n",
    "print(\"Open this file in a web browser to view the complete dashboard.\")"
   ]
  },
  {
   "cell_type": "markdown",
   "metadata": {},
   "source": [
    "## Summary\n",
    "\n",
    "In this notebook, we've demonstrated the main components of the Tariff Analyzer system:\n",
    "\n",
    "1. **Preprocessing**: Loading and processing raw tariff data\n",
    "2. **Analysis**: Statistical, impact, time series, and network analysis\n",
    "3. **Visualization**: Creating visualizations of the analysis results\n",
    "\n",
    "The system provides a comprehensive toolkit for analyzing tariff data and understanding trade relationships and impacts."
   ]
  }
 ],
 "metadata": {
  "kernelspec": {
   "display_name": "Python 3",
   "language": "python",
   "name": "python3"
  },
  "language_info": {
   "codemirror_mode": {
    "name": "ipython",
    "version": 3
   },
   "file_extension": ".py",
   "mimetype": "text/x-python",
   "name": "python",
   "nbconvert_exporter": "python",
   "pygments_lexer": "ipython3",
   "version": "3.11.0"
  }
 },
 "nbformat": 4,
 "nbformat_minor": 4
}
